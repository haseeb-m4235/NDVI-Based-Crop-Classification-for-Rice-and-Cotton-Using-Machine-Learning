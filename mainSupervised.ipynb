{
 "cells": [
  {
   "cell_type": "code",
   "execution_count": 1,
   "metadata": {},
   "outputs": [],
   "source": [
    "from DataSplit import DataSplit"
   ]
  },
  {
   "cell_type": "code",
   "execution_count": 2,
   "metadata": {},
   "outputs": [],
   "source": [
    "dataset_dir = \"Crop-dataset\""
   ]
  },
  {
   "cell_type": "code",
   "execution_count": null,
   "metadata": {},
   "outputs": [],
   "source": [
    "data = DataSplit(datasetDir=dataset_dir)\n",
    "data.get_combined_data()"
   ]
  },
  {
   "cell_type": "code",
   "execution_count": null,
   "metadata": {},
   "outputs": [],
   "source": [
    "data.combined_data"
   ]
  },
  {
   "cell_type": "code",
   "execution_count": null,
   "metadata": {},
   "outputs": [],
   "source": [
    "import seaborn as sns\n",
    "import matplotlib.pyplot as plt\n",
    "\n",
    "# Step 1: Calculate correlation matrix\n",
    "correlation_matrix = data.combined_data.corr()\n",
    "\n",
    "# Step 2: Visualize the correlation matrix\n",
    "plt.figure(figsize=(8, 6))\n",
    "sns.heatmap(correlation_matrix, annot=True, cmap='coolwarm', fmt=\".2f\", linewidths=0.5)\n",
    "plt.title(\"Feature Correlation Matrix\")\n",
    "plt.show()"
   ]
  },
  {
   "cell_type": "code",
   "execution_count": 6,
   "metadata": {},
   "outputs": [],
   "source": [
    "#data.combined_data = data.combined_data.drop(columns=['NDVI10'])"
   ]
  },
  {
   "cell_type": "markdown",
   "metadata": {},
   "source": [
    "# Calling Preprocessing"
   ]
  },
  {
   "cell_type": "code",
   "execution_count": 7,
   "metadata": {},
   "outputs": [],
   "source": [
    "from Data_Processing import DataPreProcess\n",
    "dp=DataPreProcess()"
   ]
  },
  {
   "cell_type": "code",
   "execution_count": null,
   "metadata": {},
   "outputs": [],
   "source": [
    "data=dp.apply_preprocessing()"
   ]
  },
  {
   "cell_type": "code",
   "execution_count": null,
   "metadata": {},
   "outputs": [],
   "source": [
    "from supervisedModels.RandomForrest import RandomForrest\n",
    "param_grid = {\n",
    "    'n_estimators': [100, 200],\n",
    "    'max_depth': [20],\n",
    "    'min_samples_leaf': [4],\n",
    "}\n",
    "#     param_grid = {\n",
    "#     'n_estimators': [100, 200, 500],\n",
    "#     'max_depth': [None, 10, 20, 30],\n",
    "#     'min_samples_ `split': [2, 5, 10],\n",
    "#     'min_samples_leaf': [1, 2, 4],\n",
    "#     'max_features': ['auto', 'sqrt', 'log2'],\n",
    "#     'bootstrap': [True, False],\n",
    "#     'criterion': ['gini', 'entropy']\n",
    "# }\n",
    "\n",
    "\n",
    "RF = RandomForrest(data=data, param_grid=param_grid)\n",
    "RF.get_best_hyperparameters()"
   ]
  },
  {
   "cell_type": "code",
   "execution_count": null,
   "metadata": {},
   "outputs": [],
   "source": [
    "RF.get_test_results()"
   ]
  },
  {
   "cell_type": "code",
   "execution_count": null,
   "metadata": {},
   "outputs": [],
   "source": [
    "from supervisedModels.Bagging import Bagging\n",
    "param_grid = {\n",
    "    \"n_estimators\": [10, 50],  # Number of base estimators\n",
    "    \"max_samples\": [0.5],    # Fraction of samples used to train each base estimator\n",
    "    \"max_features\": [0.5],   # Fraction of features used in each base estimator\n",
    "}\n",
    "# param_grid = {\n",
    "#     \"n_estimators\": [10, 50, 100, 200],  # Number of base estimators\n",
    "#     \"max_samples\": [0.5, 0.75, 1.0],    # Fraction of samples used to train each base estimator\n",
    "#     \"max_features\": [0.5, 0.75, 1.0],   # Fraction of features used in each base estimator\n",
    "#     \"bootstrap\": [True, False],         # Whether to use sampling with replacement\n",
    "#     \"bootstrap_features\": [True, False],  # Whether features are sampled with replacement\n",
    "#     \"base_estimator\": [None],           # Defaults to decision tree; can also try other estimators\n",
    "#     \"random_state\": [42]                # Fixed random seed for reproducibility\n",
    "# }\n",
    "\n",
    "bagging = Bagging(data=data, param_grid=param_grid)\n",
    "bagging.get_best_hyperparameters()"
   ]
  },
  {
   "cell_type": "code",
   "execution_count": null,
   "metadata": {},
   "outputs": [],
   "source": [
    "bagging.get_test_results()"
   ]
  },
  {
   "cell_type": "code",
   "execution_count": null,
   "metadata": {},
   "outputs": [],
   "source": [
    "from supervisedModels.SVM import SVM\n",
    "param_grid = {\n",
    "    'C': [0.1, 1, 10],\n",
    "    'kernel': ['poly', 'rbf'],\n",
    "    'gamma': ['scale', 'auto'],\n",
    "}\n",
    "#     param_grid = {\n",
    "#     'C': [0.01, 0.1, 1, 10, 100],\n",
    "#     'kernel': ['linear', 'poly', 'rbf', 'sigmoid'],\n",
    "#     'degree': [3, 4, 5],\n",
    "#     'gamma': ['scale', 'auto', 0.001, 0.01, 0.1, 1],\n",
    "#     'coef0': [0, 0.5, 1, 2],\n",
    "#     'tol': [1e-3, 1e-4, 1e-5],\n",
    "#     'max_iter': [-1, 1000, 2000]\n",
    "# }\n",
    "\n",
    "svm = SVM(data=data, param_grid=param_grid)\n",
    "svm.get_best_hyperparameters()"
   ]
  },
  {
   "cell_type": "code",
   "execution_count": null,
   "metadata": {},
   "outputs": [],
   "source": [
    "svm.get_test_results()"
   ]
  },
  {
   "cell_type": "code",
   "execution_count": null,
   "metadata": {},
   "outputs": [],
   "source": [
    "from supervisedModels.XGBoost import XGBoost\n",
    "param_grid = {\n",
    "    'n_estimators': [200, 500],\n",
    "    'learning_rate': [0.2],\n",
    "    'max_depth': [10],\n",
    "}\n",
    "# param_grid = {\n",
    "#     'n_estimators': [100, 200, 500],\n",
    "#     'learning_rate': [0.01, 0.05, 0.1, 0.2],\n",
    "#     'max_depth': [3, 5, 6, 10],\n",
    "#     'min_child_weight': [1, 3, 5, 10],\n",
    "#     'subsample': [0.6, 0.7, 0.8, 1.0],\n",
    "#     'colsample_bytree': [0.6, 0.8, 1.0],\n",
    "#     'colsample_bylevel': [0.6, 0.8, 1.0],\n",
    "#     'gamma': [0, 0.1, 0.5, 1],\n",
    "#     'scale_pos_weight': [1, 2, 5, 10],\n",
    "#     'reg_alpha': [0, 0.01, 0.1, 1],\n",
    "#     'reg_lambda': [0, 0.01, 0.1, 1],\n",
    "#     'objective': ['binary:logistic', 'multi:softmax'],\n",
    "#     'booster': ['gbtree', 'dart'],\n",
    "#     'tree_method': ['auto', 'hist', 'gpu_hist']\n",
    "# }\n",
    "xg = XGBoost(data=data, param_grid=param_grid)\n",
    "xg.get_best_hyperparameters()"
   ]
  },
  {
   "cell_type": "code",
   "execution_count": null,
   "metadata": {},
   "outputs": [],
   "source": [
    "xg.get_test_results()"
   ]
  }
 ],
 "metadata": {
  "kernelspec": {
   "display_name": "AI3",
   "language": "python",
   "name": "python3"
  },
  "language_info": {
   "codemirror_mode": {
    "name": "ipython",
    "version": 3
   },
   "file_extension": ".py",
   "mimetype": "text/x-python",
   "name": "python",
   "nbconvert_exporter": "python",
   "pygments_lexer": "ipython3",
   "version": "3.6.13"
  }
 },
 "nbformat": 4,
 "nbformat_minor": 2
}
